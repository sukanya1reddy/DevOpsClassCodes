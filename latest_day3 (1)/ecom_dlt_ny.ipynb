{
 "cells": [
  {
   "cell_type": "code",
   "execution_count": 0,
   "metadata": {
    "application/vnd.databricks.v1+cell": {
     "cellMetadata": {
      "byteLimit": 2048000,
      "rowLimit": 10000
     },
     "inputWidgets": {},
     "nuid": "e01ce7d4-eb34-4143-b521-3911b3dcc5d5",
     "showTitle": false,
     "tableResultSettingsMap": {},
     "title": ""
    }
   },
   "outputs": [],
   "source": [
    "CREATE OR REFRESH STREAMING TABLE sales_dlt\n",
    "AS SELECT *,current_timestamp() as ingestion_date FROM STREAM read_files(\n",
    "  \"/Volumes/dev/naval/sales/\",\n",
    "   format => \"csv\"\n",
    "   );"
   ]
  },
  {
   "cell_type": "code",
   "execution_count": 0,
   "metadata": {
    "application/vnd.databricks.v1+cell": {
     "cellMetadata": {},
     "inputWidgets": {},
     "nuid": "829f2e8d-23d7-4935-b873-2a6edd8b4636",
     "showTitle": false,
     "tableResultSettingsMap": {},
     "title": ""
    }
   },
   "outputs": [],
   "source": [
    "create or refresh streaming table naval_silver.sales_dlt_clean \n",
    "(CONSTRAINT valid_order_id EXPECT (order_id IS NOT NULL) ON VIOLATION DROP ROW)\n",
    "as select distinct * except(_rescued_data,ingestion_date ) from stream(sales_dlt)"
   ]
  },
  {
   "cell_type": "code",
   "execution_count": 0,
   "metadata": {
    "application/vnd.databricks.v1+cell": {
     "cellMetadata": {},
     "inputWidgets": {},
     "nuid": "7d9d5f8e-a045-4991-8c0d-1ec58c788bcf",
     "showTitle": false,
     "tableResultSettingsMap": {},
     "title": ""
    }
   },
   "outputs": [],
   "source": [
    "CREATE OR REFRESH STREAMING TABLE customers_dlt\n",
    "AS SELECT *, current_timestamp() as ingestion_date FROM STREAM read_files(\n",
    "  \"/Volumes/dev/naval/customers/\",\n",
    "   format => \"csv\"\n",
    "   );"
   ]
  },
  {
   "cell_type": "code",
   "execution_count": 0,
   "metadata": {
    "application/vnd.databricks.v1+cell": {
     "cellMetadata": {},
     "inputWidgets": {},
     "nuid": "6a7bf996-20ee-4e1f-b3ea-d747307ae3cd",
     "showTitle": false,
     "tableResultSettingsMap": {},
     "title": ""
    }
   },
   "outputs": [],
   "source": [
    "-- Create and populate the target table.\n",
    "CREATE OR REFRESH STREAMING TABLE naval_silver.customer_silver_scd;\n",
    "\n",
    "APPLY CHANGES INTO\n",
    " naval_silver.customer_silver_scd\n",
    "FROM\n",
    "  stream(customers_dlt)\n",
    "KEYS\n",
    "  (customer_id)\n",
    "APPLY AS DELETE WHEN\n",
    "  operation = \"DELETE\"\n",
    "SEQUENCE BY\n",
    "  sequenceNum\n",
    "COLUMNS * EXCEPT\n",
    "  (operation, sequenceNum, ingestion_date)\n",
    "STORED AS\n",
    "  SCD TYPE 2;"
   ]
  },
  {
   "cell_type": "code",
   "execution_count": 0,
   "metadata": {
    "application/vnd.databricks.v1+cell": {
     "cellMetadata": {},
     "inputWidgets": {},
     "nuid": "6ceb7ea7-1d52-42dc-808f-1e8fdeca52ca",
     "showTitle": false,
     "tableResultSettingsMap": {},
     "title": ""
    }
   },
   "outputs": [],
   "source": [
    "-- Create and populate the target table.\n",
    "CREATE OR REFRESH STREAMING TABLE naval_silver.products_dlt_scd1;\n",
    "\n",
    "APPLY CHANGES INTO\n",
    "  naval_silver.products_dlt_scd1\n",
    "FROM\n",
    "  stream(products_dlt)\n",
    "KEYS\n",
    "  (product_id)\n",
    "APPLY AS DELETE WHEN\n",
    "  operation = \"DELETE\"\n",
    "SEQUENCE BY\n",
    "  seqNum\n",
    "COLUMNS * EXCEPT\n",
    "  (operation, seqNum, ingestion_date)\n",
    "STORED AS\n",
    "  SCD TYPE 1;"
   ]
  },
  {
   "cell_type": "code",
   "execution_count": 0,
   "metadata": {
    "application/vnd.databricks.v1+cell": {
     "cellMetadata": {},
     "inputWidgets": {},
     "nuid": "cc1fa5d9-c2f2-4d82-9eaa-619c1b047db5",
     "showTitle": false,
     "tableResultSettingsMap": {},
     "title": ""
    }
   },
   "outputs": [],
   "source": [
    "CREATE OR REFRESH STREAMING TABLE products_dlt\n",
    "AS SELECT *,current_timestamp() as ingestion_date FROM STREAM read_files(\n",
    "  \"/Volumes/dev/naval/products/\",\n",
    "   format => \"csv\"\n",
    "   );"
   ]
  },
  {
   "cell_type": "code",
   "execution_count": 0,
   "metadata": {
    "application/vnd.databricks.v1+cell": {
     "cellMetadata": {},
     "inputWidgets": {},
     "nuid": "6c1ccf80-50a8-4713-ad24-d7b04dfcba73",
     "showTitle": false,
     "tableResultSettingsMap": {},
     "title": ""
    }
   },
   "outputs": [],
   "source": [
    "create or refresh materialized view naval_gold.customers_active as \n",
    "select * from naval_silver.customer_silver_scd where `__END_AT` is null"
   ]
  },
  {
   "cell_type": "code",
   "execution_count": 0,
   "metadata": {
    "application/vnd.databricks.v1+cell": {
     "cellMetadata": {},
     "inputWidgets": {},
     "nuid": "0e2e7431-5730-4cec-84a9-2d65ff9f3f01",
     "showTitle": false,
     "tableResultSettingsMap": {},
     "title": ""
    }
   },
   "outputs": [],
   "source": [
    "create or refresh materialized view naval_gold.summary as \n",
    "(SELECT \n",
    "    sales.order_id,\n",
    "    sales.customer_id,\n",
    "    sales.transaction_id,\n",
    "    sales.product_id,\n",
    "    sales.quantity,\n",
    "    sales.discount_amount,\n",
    "    sales.total_amount,\n",
    "    sales.order_date,\n",
    "    products.product_name,\n",
    "    products.product_category,\n",
    "    products.product_price,\n",
    "    customers.customer_name,\n",
    "    customers.customer_email\n",
    "FROM \n",
    "    naval_silver.sales_dlt_clean AS sales\n",
    "JOIN \n",
    "    naval_silver.products_dlt_scd1 AS products\n",
    "ON \n",
    "    sales.product_id = products.product_id\n",
    "JOIN \n",
    "    naval_gold.customers_active AS customers\n",
    "ON \n",
    "    sales.customer_id = customers.customer_id)"
   ]
  }
 ],
 "metadata": {
  "application/vnd.databricks.v1+notebook": {
   "computePreferences": null,
   "dashboards": [],
   "environmentMetadata": {
    "base_environment": "",
    "environment_version": "2"
   },
   "inputWidgetPreferences": null,
   "language": "sql",
   "notebookMetadata": {
    "pythonIndentUnit": 4
   },
   "notebookName": "ecom_dlt_ny",
   "widgets": {}
  },
  "language_info": {
   "name": "sql"
  }
 },
 "nbformat": 4,
 "nbformat_minor": 0
}
