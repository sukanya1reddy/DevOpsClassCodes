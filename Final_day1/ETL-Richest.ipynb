{
 "cells": [
  {
   "cell_type": "code",
   "execution_count": 0,
   "metadata": {
    "application/vnd.databricks.v1+cell": {
     "cellMetadata": {
      "byteLimit": 2048000,
      "rowLimit": 10000
     },
     "inputWidgets": {},
     "nuid": "e8f8dc15-ec7b-4eff-9384-b2bf1ba18621",
     "showTitle": false,
     "tableResultSettingsMap": {},
     "title": ""
    }
   },
   "outputs": [],
   "source": [
    "from pyspark.sql.functions import *"
   ]
  },
  {
   "cell_type": "code",
   "execution_count": 0,
   "metadata": {
    "application/vnd.databricks.v1+cell": {
     "cellMetadata": {},
     "inputWidgets": {},
     "nuid": "6e59a867-3baf-47e3-acdb-ea176e638eea",
     "showTitle": false,
     "tableResultSettingsMap": {},
     "title": ""
    }
   },
   "outputs": [],
   "source": []
  },
  {
   "cell_type": "code",
   "execution_count": 0,
   "metadata": {
    "application/vnd.databricks.v1+cell": {
     "cellMetadata": {
      "byteLimit": 2048000,
      "rowLimit": 10000
     },
     "inputWidgets": {},
     "nuid": "b6bc96ea-4167-4d51-8fdf-32818732d7e2",
     "showTitle": true,
     "tableResultSettingsMap": {},
     "title": "Extracting"
    }
   },
   "outputs": [],
   "source": [
    "# reading\n",
    "df=spark.read.csv(\"/Volumes/dev/naval/raw/1000_richest_people_in_the_world.csv\",header=True,inferSchema=True)\n",
    "\n",
    "#ingestion column\n",
    "df1=df.withColumn(\"ingestion_date\",current_date()).withColumnRenamed(\"Net Worth (in billions)\",\"net_worth_in_billion\")\n",
    "\n",
    "#saving to table\n",
    "#df1.write.mode(\"overwrite\").option(\"delta.columnMapping.mode\",\"name\").saveAsTable(\"dev.naval.richest_people\")\n",
    "df1.write.mode(\"overwrite\").saveAsTable(\"dev.naval.richest_people\")"
   ]
  }
 ],
 "metadata": {
  "application/vnd.databricks.v1+notebook": {
   "computePreferences": null,
   "dashboards": [],
   "environmentMetadata": {
    "base_environment": "",
    "environment_version": "2"
   },
   "inputWidgetPreferences": null,
   "language": "python",
   "notebookMetadata": {
    "mostRecentlyExecutedCommandWithImplicitDF": {
     "commandId": 245180223137049,
     "dataframes": [
      "_sqldf"
     ]
    },
    "pythonIndentUnit": 4
   },
   "notebookName": "ETL-Richest",
   "widgets": {}
  },
  "language_info": {
   "name": "python"
  }
 },
 "nbformat": 4,
 "nbformat_minor": 0
}
