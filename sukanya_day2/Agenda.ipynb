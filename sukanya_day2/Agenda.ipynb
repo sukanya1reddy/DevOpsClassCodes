{
 "cells": [
  {
   "cell_type": "code",
   "execution_count": 0,
   "metadata": {
    "application/vnd.databricks.v1+cell": {
     "cellMetadata": {},
     "inputWidgets": {},
     "nuid": "01e8432d-6013-4299-95ed-c88425a69dbf",
     "showTitle": false,
     "tableResultSettingsMap": {},
     "title": ""
    }
   },
   "outputs": [],
   "source": [
    "Lakehouse\n",
    "Meadillion architecture/ multihop / bronze silver gold\n",
    "\n",
    "delta lake\n",
    "type of new table format\n",
    "working on delta\n",
    "internals to delta\n",
    "\n",
    "hands on Meadillion (views, functions etc)\n",
    "\n",
    "optimize the delta\n",
    "\n",
    "workflow jobs for automation\n"
   ]
  }
 ],
 "metadata": {
  "application/vnd.databricks.v1+notebook": {
   "computePreferences": null,
   "dashboards": [],
   "environmentMetadata": {
    "base_environment": "",
    "environment_version": "2"
   },
   "inputWidgetPreferences": null,
   "language": "python",
   "notebookMetadata": {
    "pythonIndentUnit": 4
   },
   "notebookName": "Agenda",
   "widgets": {}
  },
  "language_info": {
   "name": "python"
  }
 },
 "nbformat": 4,
 "nbformat_minor": 0
}
