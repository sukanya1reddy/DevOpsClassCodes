{
 "cells": [
  {
   "cell_type": "code",
   "execution_count": 0,
   "metadata": {
    "application/vnd.databricks.v1+cell": {
     "cellMetadata": {
      "byteLimit": 2048000,
      "rowLimit": 10000
     },
     "inputWidgets": {},
     "nuid": "78a1f57b-6166-4e09-820e-c64d55029bfa",
     "showTitle": false,
     "tableResultSettingsMap": {},
     "title": ""
    }
   },
   "outputs": [],
   "source": [
    "create or replace view dev.naval_gold.trans_customer_info as \n",
    "(SELECT t.transaction_id, t.amount, t.transaction_type, t.timestamp,\n",
    "       c.name AS customer_name, c.email, a.account_type, a.account_balance\n",
    "FROM dev.naval_silver.transaction t\n",
    "LEFT JOIN dev.naval_silver.customer_profile c ON t.customer_id = c.customer_id\n",
    "LEFT JOIN dev.naval_silver.account_info a ON t.customer_id = a.customer_id)"
   ]
  },
  {
   "cell_type": "code",
   "execution_count": 0,
   "metadata": {
    "application/vnd.databricks.v1+cell": {
     "cellMetadata": {
      "byteLimit": 2048000,
      "rowLimit": 10000
     },
     "inputWidgets": {},
     "nuid": "51c3d0b4-68e2-49d8-8c17-3a37e5099b38",
     "showTitle": false,
     "tableResultSettingsMap": {},
     "title": ""
    }
   },
   "outputs": [],
   "source": [
    "create or replace view dev.naval_gold.total_amount_per_customer as \n",
    "(SELECT customer_id, SUM(amount) as total_amount, COUNT(*) as txn_count\n",
    "FROM dev.naval_silver.transaction\n",
    "GROUP BY customer_id)"
   ]
  }
 ],
 "metadata": {
  "application/vnd.databricks.v1+notebook": {
   "computePreferences": null,
   "dashboards": [],
   "environmentMetadata": {
    "base_environment": "",
    "environment_version": "2"
   },
   "inputWidgetPreferences": null,
   "language": "sql",
   "notebookMetadata": {
    "pythonIndentUnit": 4
   },
   "notebookName": "Gold",
   "widgets": {}
  },
  "language_info": {
   "name": "sql"
  }
 },
 "nbformat": 4,
 "nbformat_minor": 0
}
