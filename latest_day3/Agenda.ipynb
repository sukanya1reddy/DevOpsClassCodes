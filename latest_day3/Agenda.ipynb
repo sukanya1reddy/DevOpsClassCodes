{
 "cells": [
  {
   "cell_type": "code",
   "execution_count": 0,
   "metadata": {
    "application/vnd.databricks.v1+cell": {
     "cellMetadata": {},
     "inputWidgets": {},
     "nuid": "32f82f18-0bbb-453e-86f8-726d53d127d8",
     "showTitle": false,
     "tableResultSettingsMap": {},
     "title": ""
    }
   },
   "outputs": [],
   "source": [
    "Databricks SQL warehouse\n",
    "\n",
    "\n",
    "structured streaming\n",
    "autoloader\n",
    "Delta live table/ pipeline\n",
    "\n",
    "\n",
    "Unity Catalog (data governance)\n",
    "\n",
    "\n",
    "photo, materials, tips for certification\n"
   ]
  }
 ],
 "metadata": {
  "application/vnd.databricks.v1+notebook": {
   "computePreferences": null,
   "dashboards": [],
   "environmentMetadata": {
    "base_environment": "",
    "environment_version": "2"
   },
   "inputWidgetPreferences": null,
   "language": "sql",
   "notebookMetadata": {},
   "notebookName": "Agenda",
   "widgets": {}
  },
  "language_info": {
   "name": "sql"
  }
 },
 "nbformat": 4,
 "nbformat_minor": 0
}
